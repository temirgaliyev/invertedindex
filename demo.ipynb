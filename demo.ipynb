{
 "metadata": {
  "language_info": {
   "codemirror_mode": {
    "name": "ipython",
    "version": 3
   },
   "file_extension": ".py",
   "mimetype": "text/x-python",
   "name": "python",
   "nbconvert_exporter": "python",
   "pygments_lexer": "ipython3",
   "version": "3.8.5-final"
  },
  "orig_nbformat": 2,
  "kernelspec": {
   "name": "python38564bitenvhacknuc570f672f29847588d68de418e603826",
   "display_name": "Python 3.8.5 64-bit ('env_hacknu')"
  }
 },
 "nbformat": 4,
 "nbformat_minor": 2,
 "cells": [
  {
   "cell_type": "code",
   "execution_count": 1,
   "metadata": {},
   "outputs": [],
   "source": [
    "import os\n",
    "import pickle\n",
    "import pandas as pd"
   ]
  },
  {
   "cell_type": "code",
   "execution_count": 2,
   "metadata": {},
   "outputs": [],
   "source": [
    "query_out_folder = 'query_out'\n",
    "index_filename = os.path.join('pickled', 'invertedindex_LEMMATIZATION_cnt142570_bs10_np6_rtSUM_t1616298406.3547668.pkl')"
   ]
  },
  {
   "cell_type": "code",
   "execution_count": 3,
   "metadata": {},
   "outputs": [
    {
     "output_type": "stream",
     "name": "stdout",
     "text": [
      "CPU times: user 14.8 s, sys: 3.05 s, total: 17.8 s\nWall time: 17.8 s\n"
     ]
    }
   ],
   "source": [
    "%%time\n",
    "with open(index_filename, 'rb') as inp:\n",
    "    index = pickle.load(inp)"
   ]
  },
  {
   "cell_type": "code",
   "execution_count": 4,
   "metadata": {},
   "outputs": [
    {
     "output_type": "stream",
     "name": "stdout",
     "text": [
      "CPU times: user 8.13 s, sys: 775 ms, total: 8.9 s\nWall time: 8.95 s\n"
     ]
    }
   ],
   "source": [
    "%%time\n",
    "archive_folder = os.path.join('data', 'archive')\n",
    "articles_file = os.path.join(archive_folder, 'articles%d.csv')\n",
    "articles1_df = pd.read_csv(articles_file % 1, usecols=['content'])\n",
    "articles2_df = pd.read_csv(articles_file % 2, usecols=['content'])\n",
    "articles3_df = pd.read_csv(articles_file % 3, usecols=['content'])\n",
    "\n",
    "content = pd.concat([articles1_df['content'],\n",
    "                     articles2_df['content'],\n",
    "                     articles3_df['content']]).tolist()\n",
    "del articles1_df\n",
    "del articles2_df\n",
    "del articles3_df"
   ]
  },
  {
   "cell_type": "code",
   "execution_count": 6,
   "metadata": {},
   "outputs": [],
   "source": [
    "query = 'presidential elections'"
   ]
  },
  {
   "cell_type": "code",
   "execution_count": 7,
   "metadata": {},
   "outputs": [
    {
     "output_type": "stream",
     "name": "stdout",
     "text": [
      "CPU times: user 2 s, sys: 0 ns, total: 2 s\nWall time: 2 s\n"
     ]
    }
   ],
   "source": [
    "%%time\n",
    "articles = index.get_relevant_articles(query)"
   ]
  },
  {
   "cell_type": "code",
   "execution_count": 8,
   "metadata": {},
   "outputs": [
    {
     "output_type": "execute_result",
     "data": {
      "text/plain": [
       "[(0.39078759203675206, 55699),\n",
       " (0.38007281927344394, 130734),\n",
       " (0.3589543225494932, 107832),\n",
       " (0.31551867995768357, 130751),\n",
       " (0.31345889435884783, 114240)]"
      ]
     },
     "metadata": {},
     "execution_count": 8
    }
   ],
   "source": [
    "articles"
   ]
  },
  {
   "cell_type": "code",
   "execution_count": null,
   "metadata": {},
   "outputs": [],
   "source": [
    "def write_to_file(filename, data):\n",
    "    with open(filename, 'w') as fin:\n",
    "        fin.write(data)"
   ]
  },
  {
   "cell_type": "code",
   "execution_count": 9,
   "metadata": {},
   "outputs": [
    {
     "output_type": "stream",
     "name": "stdout",
     "text": [
      "CPU times: user 2.29 ms, sys: 376 µs, total: 2.67 ms\nWall time: 3.05 ms\n"
     ]
    }
   ],
   "source": [
    "%%time\n",
    "prefix = query.replace(' ', '_')\n",
    "for cos_distance, doc_id in articles:\n",
    "    filename = f'{prefix}_{cos_distance:.2f}_{doc_id}'\n",
    "    data = f'{doc_id}\\n{content[doc_id]}'\n",
    "    write_to_file(os.path.join(query_out_folder, filename), data)"
   ]
  },
  {
   "cell_type": "code",
   "execution_count": null,
   "metadata": {},
   "outputs": [],
   "source": []
  }
 ]
}